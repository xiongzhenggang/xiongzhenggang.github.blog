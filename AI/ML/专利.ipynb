{
 "cells": [
  {
   "cell_type": "code",
   "execution_count": 11,
   "metadata": {},
   "outputs": [],
   "source": [
    "import numpy as np\n",
    "import pandas as pd\n",
    "# rawArray = np.loadtxt('../data/vehicleinfo/imports-85.data', dtype=object ,delimiter=',')"
   ]
  },
  {
   "cell_type": "code",
   "execution_count": 12,
   "metadata": {},
   "outputs": [],
   "source": [
    "df = pd.read_csv('../data/vehicleinfo/imports-85.data',delimiter=',', sep='\\t', header=None)"
   ]
  },
  {
   "cell_type": "code",
   "execution_count": 13,
   "metadata": {},
   "outputs": [
    {
     "output_type": "execute_result",
     "data": {
      "text/plain": "   0    1            2    3    4     5            6    7      8     9   ...  \\\n0   3    ?  alfa-romero  gas  std   two  convertible  rwd  front  88.6  ...   \n1   3    ?  alfa-romero  gas  std   two  convertible  rwd  front  88.6  ...   \n2   1    ?  alfa-romero  gas  std   two    hatchback  rwd  front  94.5  ...   \n3   2  164         audi  gas  std  four        sedan  fwd  front  99.8  ...   \n4   2  164         audi  gas  std  four        sedan  4wd  front  99.4  ...   \n\n    16    17    18    19    20   21    22  23  24     25  \n0  130  mpfi  3.47  2.68   9.0  111  5000  21  27  13495  \n1  130  mpfi  3.47  2.68   9.0  111  5000  21  27  16500  \n2  152  mpfi  2.68  3.47   9.0  154  5000  19  26  16500  \n3  109  mpfi  3.19  3.40  10.0  102  5500  24  30  13950  \n4  136  mpfi  3.19  3.40   8.0  115  5500  18  22  17450  \n\n[5 rows x 26 columns]",
      "text/html": "<div>\n<style scoped>\n    .dataframe tbody tr th:only-of-type {\n        vertical-align: middle;\n    }\n\n    .dataframe tbody tr th {\n        vertical-align: top;\n    }\n\n    .dataframe thead th {\n        text-align: right;\n    }\n</style>\n<table border=\"1\" class=\"dataframe\">\n  <thead>\n    <tr style=\"text-align: right;\">\n      <th></th>\n      <th>0</th>\n      <th>1</th>\n      <th>2</th>\n      <th>3</th>\n      <th>4</th>\n      <th>5</th>\n      <th>6</th>\n      <th>7</th>\n      <th>8</th>\n      <th>9</th>\n      <th>...</th>\n      <th>16</th>\n      <th>17</th>\n      <th>18</th>\n      <th>19</th>\n      <th>20</th>\n      <th>21</th>\n      <th>22</th>\n      <th>23</th>\n      <th>24</th>\n      <th>25</th>\n    </tr>\n  </thead>\n  <tbody>\n    <tr>\n      <th>0</th>\n      <td>3</td>\n      <td>?</td>\n      <td>alfa-romero</td>\n      <td>gas</td>\n      <td>std</td>\n      <td>two</td>\n      <td>convertible</td>\n      <td>rwd</td>\n      <td>front</td>\n      <td>88.6</td>\n      <td>...</td>\n      <td>130</td>\n      <td>mpfi</td>\n      <td>3.47</td>\n      <td>2.68</td>\n      <td>9.0</td>\n      <td>111</td>\n      <td>5000</td>\n      <td>21</td>\n      <td>27</td>\n      <td>13495</td>\n    </tr>\n    <tr>\n      <th>1</th>\n      <td>3</td>\n      <td>?</td>\n      <td>alfa-romero</td>\n      <td>gas</td>\n      <td>std</td>\n      <td>two</td>\n      <td>convertible</td>\n      <td>rwd</td>\n      <td>front</td>\n      <td>88.6</td>\n      <td>...</td>\n      <td>130</td>\n      <td>mpfi</td>\n      <td>3.47</td>\n      <td>2.68</td>\n      <td>9.0</td>\n      <td>111</td>\n      <td>5000</td>\n      <td>21</td>\n      <td>27</td>\n      <td>16500</td>\n    </tr>\n    <tr>\n      <th>2</th>\n      <td>1</td>\n      <td>?</td>\n      <td>alfa-romero</td>\n      <td>gas</td>\n      <td>std</td>\n      <td>two</td>\n      <td>hatchback</td>\n      <td>rwd</td>\n      <td>front</td>\n      <td>94.5</td>\n      <td>...</td>\n      <td>152</td>\n      <td>mpfi</td>\n      <td>2.68</td>\n      <td>3.47</td>\n      <td>9.0</td>\n      <td>154</td>\n      <td>5000</td>\n      <td>19</td>\n      <td>26</td>\n      <td>16500</td>\n    </tr>\n    <tr>\n      <th>3</th>\n      <td>2</td>\n      <td>164</td>\n      <td>audi</td>\n      <td>gas</td>\n      <td>std</td>\n      <td>four</td>\n      <td>sedan</td>\n      <td>fwd</td>\n      <td>front</td>\n      <td>99.8</td>\n      <td>...</td>\n      <td>109</td>\n      <td>mpfi</td>\n      <td>3.19</td>\n      <td>3.40</td>\n      <td>10.0</td>\n      <td>102</td>\n      <td>5500</td>\n      <td>24</td>\n      <td>30</td>\n      <td>13950</td>\n    </tr>\n    <tr>\n      <th>4</th>\n      <td>2</td>\n      <td>164</td>\n      <td>audi</td>\n      <td>gas</td>\n      <td>std</td>\n      <td>four</td>\n      <td>sedan</td>\n      <td>4wd</td>\n      <td>front</td>\n      <td>99.4</td>\n      <td>...</td>\n      <td>136</td>\n      <td>mpfi</td>\n      <td>3.19</td>\n      <td>3.40</td>\n      <td>8.0</td>\n      <td>115</td>\n      <td>5500</td>\n      <td>18</td>\n      <td>22</td>\n      <td>17450</td>\n    </tr>\n  </tbody>\n</table>\n<p>5 rows × 26 columns</p>\n</div>"
     },
     "metadata": {},
     "execution_count": 13
    }
   ],
   "source": [
    "df.head()"
   ]
  },
  {
   "cell_type": "code",
   "execution_count": 14,
   "metadata": {},
   "outputs": [],
   "source": [
    "# 将？ 转换为None\n",
    "df.replace(to_replace='?',value=np.nan,inplace=True)"
   ]
  },
  {
   "cell_type": "code",
   "execution_count": 15,
   "metadata": {},
   "outputs": [
    {
     "output_type": "execute_result",
     "data": {
      "text/plain": "   0    1            2    3    4     5            6    7      8     9   ...  \\\n0   3  NaN  alfa-romero  gas  std   two  convertible  rwd  front  88.6  ...   \n1   3  NaN  alfa-romero  gas  std   two  convertible  rwd  front  88.6  ...   \n2   1  NaN  alfa-romero  gas  std   two    hatchback  rwd  front  94.5  ...   \n3   2  164         audi  gas  std  four        sedan  fwd  front  99.8  ...   \n4   2  164         audi  gas  std  four        sedan  4wd  front  99.4  ...   \n\n    16    17    18    19    20   21    22  23  24     25  \n0  130  mpfi  3.47  2.68   9.0  111  5000  21  27  13495  \n1  130  mpfi  3.47  2.68   9.0  111  5000  21  27  16500  \n2  152  mpfi  2.68  3.47   9.0  154  5000  19  26  16500  \n3  109  mpfi  3.19  3.40  10.0  102  5500  24  30  13950  \n4  136  mpfi  3.19  3.40   8.0  115  5500  18  22  17450  \n\n[5 rows x 26 columns]",
      "text/html": "<div>\n<style scoped>\n    .dataframe tbody tr th:only-of-type {\n        vertical-align: middle;\n    }\n\n    .dataframe tbody tr th {\n        vertical-align: top;\n    }\n\n    .dataframe thead th {\n        text-align: right;\n    }\n</style>\n<table border=\"1\" class=\"dataframe\">\n  <thead>\n    <tr style=\"text-align: right;\">\n      <th></th>\n      <th>0</th>\n      <th>1</th>\n      <th>2</th>\n      <th>3</th>\n      <th>4</th>\n      <th>5</th>\n      <th>6</th>\n      <th>7</th>\n      <th>8</th>\n      <th>9</th>\n      <th>...</th>\n      <th>16</th>\n      <th>17</th>\n      <th>18</th>\n      <th>19</th>\n      <th>20</th>\n      <th>21</th>\n      <th>22</th>\n      <th>23</th>\n      <th>24</th>\n      <th>25</th>\n    </tr>\n  </thead>\n  <tbody>\n    <tr>\n      <th>0</th>\n      <td>3</td>\n      <td>NaN</td>\n      <td>alfa-romero</td>\n      <td>gas</td>\n      <td>std</td>\n      <td>two</td>\n      <td>convertible</td>\n      <td>rwd</td>\n      <td>front</td>\n      <td>88.6</td>\n      <td>...</td>\n      <td>130</td>\n      <td>mpfi</td>\n      <td>3.47</td>\n      <td>2.68</td>\n      <td>9.0</td>\n      <td>111</td>\n      <td>5000</td>\n      <td>21</td>\n      <td>27</td>\n      <td>13495</td>\n    </tr>\n    <tr>\n      <th>1</th>\n      <td>3</td>\n      <td>NaN</td>\n      <td>alfa-romero</td>\n      <td>gas</td>\n      <td>std</td>\n      <td>two</td>\n      <td>convertible</td>\n      <td>rwd</td>\n      <td>front</td>\n      <td>88.6</td>\n      <td>...</td>\n      <td>130</td>\n      <td>mpfi</td>\n      <td>3.47</td>\n      <td>2.68</td>\n      <td>9.0</td>\n      <td>111</td>\n      <td>5000</td>\n      <td>21</td>\n      <td>27</td>\n      <td>16500</td>\n    </tr>\n    <tr>\n      <th>2</th>\n      <td>1</td>\n      <td>NaN</td>\n      <td>alfa-romero</td>\n      <td>gas</td>\n      <td>std</td>\n      <td>two</td>\n      <td>hatchback</td>\n      <td>rwd</td>\n      <td>front</td>\n      <td>94.5</td>\n      <td>...</td>\n      <td>152</td>\n      <td>mpfi</td>\n      <td>2.68</td>\n      <td>3.47</td>\n      <td>9.0</td>\n      <td>154</td>\n      <td>5000</td>\n      <td>19</td>\n      <td>26</td>\n      <td>16500</td>\n    </tr>\n    <tr>\n      <th>3</th>\n      <td>2</td>\n      <td>164</td>\n      <td>audi</td>\n      <td>gas</td>\n      <td>std</td>\n      <td>four</td>\n      <td>sedan</td>\n      <td>fwd</td>\n      <td>front</td>\n      <td>99.8</td>\n      <td>...</td>\n      <td>109</td>\n      <td>mpfi</td>\n      <td>3.19</td>\n      <td>3.40</td>\n      <td>10.0</td>\n      <td>102</td>\n      <td>5500</td>\n      <td>24</td>\n      <td>30</td>\n      <td>13950</td>\n    </tr>\n    <tr>\n      <th>4</th>\n      <td>2</td>\n      <td>164</td>\n      <td>audi</td>\n      <td>gas</td>\n      <td>std</td>\n      <td>four</td>\n      <td>sedan</td>\n      <td>4wd</td>\n      <td>front</td>\n      <td>99.4</td>\n      <td>...</td>\n      <td>136</td>\n      <td>mpfi</td>\n      <td>3.19</td>\n      <td>3.40</td>\n      <td>8.0</td>\n      <td>115</td>\n      <td>5500</td>\n      <td>18</td>\n      <td>22</td>\n      <td>17450</td>\n    </tr>\n  </tbody>\n</table>\n<p>5 rows × 26 columns</p>\n</div>"
     },
     "metadata": {},
     "execution_count": 15
    }
   ],
   "source": [
    "df.head()"
   ]
  },
  {
   "cell_type": "code",
   "execution_count": 16,
   "metadata": {},
   "outputs": [],
   "source": [
    "# 表头建立\n",
    "df.columns = ['symboling','normalized-losses','make','fuel-type','aspiration','num-of-doors','body-style','drive-wheels','engine-location','wheel-base','length','width','height','curb-weight','engine-type','num-of-cylinders','engine-size','fuel-system','bore','stroke','compression-ratio','horsepower','peak-rpm','city-mpg','highway-mpg','price']"
   ]
  },
  {
   "cell_type": "code",
   "execution_count": 17,
   "metadata": {},
   "outputs": [
    {
     "output_type": "execute_result",
     "data": {
      "text/plain": "   symboling normalized-losses         make fuel-type aspiration num-of-doors  \\\n0          3               NaN  alfa-romero       gas        std          two   \n1          3               NaN  alfa-romero       gas        std          two   \n2          1               NaN  alfa-romero       gas        std          two   \n3          2               164         audi       gas        std         four   \n4          2               164         audi       gas        std         four   \n\n    body-style drive-wheels engine-location  wheel-base  ...  engine-size  \\\n0  convertible          rwd           front        88.6  ...          130   \n1  convertible          rwd           front        88.6  ...          130   \n2    hatchback          rwd           front        94.5  ...          152   \n3        sedan          fwd           front        99.8  ...          109   \n4        sedan          4wd           front        99.4  ...          136   \n\n   fuel-system  bore  stroke compression-ratio horsepower  peak-rpm city-mpg  \\\n0         mpfi  3.47    2.68               9.0        111      5000       21   \n1         mpfi  3.47    2.68               9.0        111      5000       21   \n2         mpfi  2.68    3.47               9.0        154      5000       19   \n3         mpfi  3.19    3.40              10.0        102      5500       24   \n4         mpfi  3.19    3.40               8.0        115      5500       18   \n\n  highway-mpg  price  \n0          27  13495  \n1          27  16500  \n2          26  16500  \n3          30  13950  \n4          22  17450  \n\n[5 rows x 26 columns]",
      "text/html": "<div>\n<style scoped>\n    .dataframe tbody tr th:only-of-type {\n        vertical-align: middle;\n    }\n\n    .dataframe tbody tr th {\n        vertical-align: top;\n    }\n\n    .dataframe thead th {\n        text-align: right;\n    }\n</style>\n<table border=\"1\" class=\"dataframe\">\n  <thead>\n    <tr style=\"text-align: right;\">\n      <th></th>\n      <th>symboling</th>\n      <th>normalized-losses</th>\n      <th>make</th>\n      <th>fuel-type</th>\n      <th>aspiration</th>\n      <th>num-of-doors</th>\n      <th>body-style</th>\n      <th>drive-wheels</th>\n      <th>engine-location</th>\n      <th>wheel-base</th>\n      <th>...</th>\n      <th>engine-size</th>\n      <th>fuel-system</th>\n      <th>bore</th>\n      <th>stroke</th>\n      <th>compression-ratio</th>\n      <th>horsepower</th>\n      <th>peak-rpm</th>\n      <th>city-mpg</th>\n      <th>highway-mpg</th>\n      <th>price</th>\n    </tr>\n  </thead>\n  <tbody>\n    <tr>\n      <th>0</th>\n      <td>3</td>\n      <td>NaN</td>\n      <td>alfa-romero</td>\n      <td>gas</td>\n      <td>std</td>\n      <td>two</td>\n      <td>convertible</td>\n      <td>rwd</td>\n      <td>front</td>\n      <td>88.6</td>\n      <td>...</td>\n      <td>130</td>\n      <td>mpfi</td>\n      <td>3.47</td>\n      <td>2.68</td>\n      <td>9.0</td>\n      <td>111</td>\n      <td>5000</td>\n      <td>21</td>\n      <td>27</td>\n      <td>13495</td>\n    </tr>\n    <tr>\n      <th>1</th>\n      <td>3</td>\n      <td>NaN</td>\n      <td>alfa-romero</td>\n      <td>gas</td>\n      <td>std</td>\n      <td>two</td>\n      <td>convertible</td>\n      <td>rwd</td>\n      <td>front</td>\n      <td>88.6</td>\n      <td>...</td>\n      <td>130</td>\n      <td>mpfi</td>\n      <td>3.47</td>\n      <td>2.68</td>\n      <td>9.0</td>\n      <td>111</td>\n      <td>5000</td>\n      <td>21</td>\n      <td>27</td>\n      <td>16500</td>\n    </tr>\n    <tr>\n      <th>2</th>\n      <td>1</td>\n      <td>NaN</td>\n      <td>alfa-romero</td>\n      <td>gas</td>\n      <td>std</td>\n      <td>two</td>\n      <td>hatchback</td>\n      <td>rwd</td>\n      <td>front</td>\n      <td>94.5</td>\n      <td>...</td>\n      <td>152</td>\n      <td>mpfi</td>\n      <td>2.68</td>\n      <td>3.47</td>\n      <td>9.0</td>\n      <td>154</td>\n      <td>5000</td>\n      <td>19</td>\n      <td>26</td>\n      <td>16500</td>\n    </tr>\n    <tr>\n      <th>3</th>\n      <td>2</td>\n      <td>164</td>\n      <td>audi</td>\n      <td>gas</td>\n      <td>std</td>\n      <td>four</td>\n      <td>sedan</td>\n      <td>fwd</td>\n      <td>front</td>\n      <td>99.8</td>\n      <td>...</td>\n      <td>109</td>\n      <td>mpfi</td>\n      <td>3.19</td>\n      <td>3.40</td>\n      <td>10.0</td>\n      <td>102</td>\n      <td>5500</td>\n      <td>24</td>\n      <td>30</td>\n      <td>13950</td>\n    </tr>\n    <tr>\n      <th>4</th>\n      <td>2</td>\n      <td>164</td>\n      <td>audi</td>\n      <td>gas</td>\n      <td>std</td>\n      <td>four</td>\n      <td>sedan</td>\n      <td>4wd</td>\n      <td>front</td>\n      <td>99.4</td>\n      <td>...</td>\n      <td>136</td>\n      <td>mpfi</td>\n      <td>3.19</td>\n      <td>3.40</td>\n      <td>8.0</td>\n      <td>115</td>\n      <td>5500</td>\n      <td>18</td>\n      <td>22</td>\n      <td>17450</td>\n    </tr>\n  </tbody>\n</table>\n<p>5 rows × 26 columns</p>\n</div>"
     },
     "metadata": {},
     "execution_count": 17
    }
   ],
   "source": [
    "df.head()"
   ]
  },
  {
   "cell_type": "code",
   "execution_count": 18,
   "metadata": {},
   "outputs": [],
   "source": [
    "# 选择部分特征值作为实验数据\n",
    "data = df[['wheel-base','length','width','height','curb-weight','engine-size','bore','stroke','compression-ratio','horsepower','peak-rpm','highway-mpg']]"
   ]
  },
  {
   "cell_type": "code",
   "execution_count": 39,
   "metadata": {},
   "outputs": [
    {
     "output_type": "execute_result",
     "data": {
      "text/plain": "   wheel-base  length  width  height  curb-weight  engine-size stroke  \\\n0        88.6   168.8   64.1    48.8         2548          130   2.68   \n1        88.6   168.8   64.1    48.8         2548          130   2.68   \n2        94.5   171.2   65.5    52.4         2823          152   3.47   \n3        99.8   176.6   66.2    54.3         2337          109   3.40   \n4        99.4   176.6   66.4    54.3         2824          136   3.40   \n\n   compression-ratio peak-rpm  \n0                9.0     5000  \n1                9.0     5000  \n2                9.0     5000  \n3               10.0     5500  \n4                8.0     5500  ",
      "text/html": "<div>\n<style scoped>\n    .dataframe tbody tr th:only-of-type {\n        vertical-align: middle;\n    }\n\n    .dataframe tbody tr th {\n        vertical-align: top;\n    }\n\n    .dataframe thead th {\n        text-align: right;\n    }\n</style>\n<table border=\"1\" class=\"dataframe\">\n  <thead>\n    <tr style=\"text-align: right;\">\n      <th></th>\n      <th>wheel-base</th>\n      <th>length</th>\n      <th>width</th>\n      <th>height</th>\n      <th>curb-weight</th>\n      <th>engine-size</th>\n      <th>stroke</th>\n      <th>compression-ratio</th>\n      <th>peak-rpm</th>\n    </tr>\n  </thead>\n  <tbody>\n    <tr>\n      <th>0</th>\n      <td>88.6</td>\n      <td>168.8</td>\n      <td>64.1</td>\n      <td>48.8</td>\n      <td>2548</td>\n      <td>130</td>\n      <td>2.68</td>\n      <td>9.0</td>\n      <td>5000</td>\n    </tr>\n    <tr>\n      <th>1</th>\n      <td>88.6</td>\n      <td>168.8</td>\n      <td>64.1</td>\n      <td>48.8</td>\n      <td>2548</td>\n      <td>130</td>\n      <td>2.68</td>\n      <td>9.0</td>\n      <td>5000</td>\n    </tr>\n    <tr>\n      <th>2</th>\n      <td>94.5</td>\n      <td>171.2</td>\n      <td>65.5</td>\n      <td>52.4</td>\n      <td>2823</td>\n      <td>152</td>\n      <td>3.47</td>\n      <td>9.0</td>\n      <td>5000</td>\n    </tr>\n    <tr>\n      <th>3</th>\n      <td>99.8</td>\n      <td>176.6</td>\n      <td>66.2</td>\n      <td>54.3</td>\n      <td>2337</td>\n      <td>109</td>\n      <td>3.40</td>\n      <td>10.0</td>\n      <td>5500</td>\n    </tr>\n    <tr>\n      <th>4</th>\n      <td>99.4</td>\n      <td>176.6</td>\n      <td>66.4</td>\n      <td>54.3</td>\n      <td>2824</td>\n      <td>136</td>\n      <td>3.40</td>\n      <td>8.0</td>\n      <td>5500</td>\n    </tr>\n  </tbody>\n</table>\n</div>"
     },
     "metadata": {},
     "execution_count": 39
    }
   ],
   "source": [
    "data_after=df[['wheel-base','length','width','height','curb-weight','engine-size','stroke','compression-ratio','peak-rpm']]\n",
    "data_after.head()"
   ]
  },
  {
   "cell_type": "code",
   "execution_count": 19,
   "metadata": {},
   "outputs": [
    {
     "output_type": "execute_result",
     "data": {
      "text/plain": "(205, 12)"
     },
     "metadata": {},
     "execution_count": 19
    }
   ],
   "source": [
    "data.shape"
   ]
  },
  {
   "cell_type": "code",
   "execution_count": 20,
   "metadata": {},
   "outputs": [
    {
     "output_type": "execute_result",
     "data": {
      "text/plain": "   wheel-base  length  width  height  curb-weight  engine-size  bore stroke  \\\n0        88.6   168.8   64.1    48.8         2548          130  3.47   2.68   \n1        88.6   168.8   64.1    48.8         2548          130  3.47   2.68   \n2        94.5   171.2   65.5    52.4         2823          152  2.68   3.47   \n3        99.8   176.6   66.2    54.3         2337          109  3.19   3.40   \n4        99.4   176.6   66.4    54.3         2824          136  3.19   3.40   \n\n   compression-ratio horsepower peak-rpm  highway-mpg  random01  random02  \n0                9.0        111     5000           27  0.100502  0.246372  \n1                9.0        111     5000           27  0.753619  0.172148  \n2                9.0        154     5000           26  0.787117  0.673282  \n3               10.0        102     5500           30  0.199307  0.009581  \n4                8.0        115     5500           22  0.444355  0.247614  ",
      "text/html": "<div>\n<style scoped>\n    .dataframe tbody tr th:only-of-type {\n        vertical-align: middle;\n    }\n\n    .dataframe tbody tr th {\n        vertical-align: top;\n    }\n\n    .dataframe thead th {\n        text-align: right;\n    }\n</style>\n<table border=\"1\" class=\"dataframe\">\n  <thead>\n    <tr style=\"text-align: right;\">\n      <th></th>\n      <th>wheel-base</th>\n      <th>length</th>\n      <th>width</th>\n      <th>height</th>\n      <th>curb-weight</th>\n      <th>engine-size</th>\n      <th>bore</th>\n      <th>stroke</th>\n      <th>compression-ratio</th>\n      <th>horsepower</th>\n      <th>peak-rpm</th>\n      <th>highway-mpg</th>\n      <th>random01</th>\n      <th>random02</th>\n    </tr>\n  </thead>\n  <tbody>\n    <tr>\n      <th>0</th>\n      <td>88.6</td>\n      <td>168.8</td>\n      <td>64.1</td>\n      <td>48.8</td>\n      <td>2548</td>\n      <td>130</td>\n      <td>3.47</td>\n      <td>2.68</td>\n      <td>9.0</td>\n      <td>111</td>\n      <td>5000</td>\n      <td>27</td>\n      <td>0.100502</td>\n      <td>0.246372</td>\n    </tr>\n    <tr>\n      <th>1</th>\n      <td>88.6</td>\n      <td>168.8</td>\n      <td>64.1</td>\n      <td>48.8</td>\n      <td>2548</td>\n      <td>130</td>\n      <td>3.47</td>\n      <td>2.68</td>\n      <td>9.0</td>\n      <td>111</td>\n      <td>5000</td>\n      <td>27</td>\n      <td>0.753619</td>\n      <td>0.172148</td>\n    </tr>\n    <tr>\n      <th>2</th>\n      <td>94.5</td>\n      <td>171.2</td>\n      <td>65.5</td>\n      <td>52.4</td>\n      <td>2823</td>\n      <td>152</td>\n      <td>2.68</td>\n      <td>3.47</td>\n      <td>9.0</td>\n      <td>154</td>\n      <td>5000</td>\n      <td>26</td>\n      <td>0.787117</td>\n      <td>0.673282</td>\n    </tr>\n    <tr>\n      <th>3</th>\n      <td>99.8</td>\n      <td>176.6</td>\n      <td>66.2</td>\n      <td>54.3</td>\n      <td>2337</td>\n      <td>109</td>\n      <td>3.19</td>\n      <td>3.40</td>\n      <td>10.0</td>\n      <td>102</td>\n      <td>5500</td>\n      <td>30</td>\n      <td>0.199307</td>\n      <td>0.009581</td>\n    </tr>\n    <tr>\n      <th>4</th>\n      <td>99.4</td>\n      <td>176.6</td>\n      <td>66.4</td>\n      <td>54.3</td>\n      <td>2824</td>\n      <td>136</td>\n      <td>3.19</td>\n      <td>3.40</td>\n      <td>8.0</td>\n      <td>115</td>\n      <td>5500</td>\n      <td>22</td>\n      <td>0.444355</td>\n      <td>0.247614</td>\n    </tr>\n  </tbody>\n</table>\n</div>"
     },
     "metadata": {},
     "execution_count": 20
    }
   ],
   "source": [
    "# 新增两条随机数据作为实验\n",
    "data2 = data.copy()\n",
    "# 生成随机数据\n",
    "random01 = np.random.rand(data.shape[0])\n",
    "random02 = np.random.rand(data.shape[0])\n",
    "data2['random01']=random01\n",
    "data2['random02']=random02\n",
    "data2.head()"
   ]
  },
  {
   "cell_type": "code",
   "execution_count": 21,
   "metadata": {},
   "outputs": [],
   "source": [
    "data2= data2.values\n",
    "data2 = data2.astype(np.float)\n",
    "# 去除Nan的行\n",
    "data2=np.delete(data2,np.where(np.isnan(data2))[0],axis=0)\n",
    "Y= data2[:,-3]\n",
    "X = np.delete(data2, -3, 1)"
   ]
  },
  {
   "cell_type": "code",
   "execution_count": 22,
   "metadata": {},
   "outputs": [
    {
     "output_type": "execute_result",
     "data": {
      "text/plain": "((199, 13), (199,))"
     },
     "metadata": {},
     "execution_count": 22
    }
   ],
   "source": [
    "# 归一化处理\n",
    "X1 = (X-np.mean(X,axis=0))/np.std(X,axis=0)\n",
    "Y = (Y-np.mean(Y))/np.std(Y)\n",
    "X1.shape,Y.shape"
   ]
  },
  {
   "cell_type": "code",
   "execution_count": 23,
   "metadata": {},
   "outputs": [
    {
     "output_type": "execute_result",
     "data": {
      "text/plain": "(199,)"
     },
     "metadata": {},
     "execution_count": 23
    }
   ],
   "source": [
    "Y.reshape((199,1))\n",
    "Y.shape"
   ]
  },
  {
   "cell_type": "code",
   "execution_count": 24,
   "metadata": {},
   "outputs": [
    {
     "output_type": "execute_result",
     "data": {
      "text/plain": "array([[-2.68891279, -1.42539008, -1.8317241 , ..., -1.2311026 ,\n        -2.22590236, -1.77142243],\n       [-2.68891279, -1.42539008, -1.8317241 , ..., -1.2311026 ,\n        -0.05562281, -2.02037631],\n       [-1.71702017, -1.23274234, -1.18680806, ..., -1.2311026 ,\n         0.05569089, -0.3395264 ],\n       ...,\n       [ 0.68800224,  0.18000771,  0.37941663, ..., -0.15908823,\n        -1.17343659, -1.73044764],\n       [ 0.68800224,  0.18000771,  0.37941663, ..., -1.65990834,\n        -0.21819131, -2.21695705],\n       [ 0.68800224,  0.18000771,  0.37941663, ..., -0.3734911 ,\n        -1.59882625, -1.38431351]])"
     },
     "metadata": {},
     "execution_count": 24
    }
   ],
   "source": [
    "X1-np.std(X1,axis=0)"
   ]
  },
  {
   "cell_type": "markdown",
   "metadata": {},
   "source": [
    "r = \\frac{\\sum (x - m_x) (y - m_y)}\n",
    "             {\\sqrt{\\sum (x - m_x)^2 \\sum (y - m_y)^2}}"
   ]
  },
  {
   "cell_type": "code",
   "execution_count": 25,
   "metadata": {},
   "outputs": [],
   "source": [
    "from scipy.stats import pearsonr\n",
    "def pearsonrs(x,y):\n",
    "    pears = []\n",
    "    # 循环列处理\n",
    "    for arr in x.T:\n",
    "        pears.append(pearsonr(arr,Y)[0])\n",
    "    return np.array(pears)"
   ]
  },
  {
   "cell_type": "code",
   "execution_count": 26,
   "metadata": {},
   "outputs": [
    {
     "output_type": "execute_result",
     "data": {
      "text/plain": "(array([0.56658047, 0.72508504, 0.68858184, 0.15241849, 0.8148516 ,\n        0.72867957, 0.59532071, 0.04577927, 0.26468372, 0.77903191,\n        0.0136203 , 0.05790304, 0.05676424]),\n array([ 4,  9,  5,  1,  2,  6,  0,  8,  3, 11, 12,  7, 10], dtype=int64))"
     },
     "metadata": {},
     "execution_count": 26
    }
   ],
   "source": [
    "pears = np.abs(pearsonrs(X1,Y))\n",
    "index = np.argsort(-pears)\n",
    "pears,index"
   ]
  },
  {
   "cell_type": "code",
   "execution_count": 38,
   "metadata": {},
   "outputs": [
    {
     "output_type": "execute_result",
     "data": {
      "text/plain": "(199, 9)"
     },
     "metadata": {},
     "execution_count": 38
    }
   ],
   "source": [
    "# 选取相关系数大于0.1的，即前9个特征\n",
    "X2 = X1[:,index[0:9]]\n",
    "X2.shape\n",
    "\n"
   ]
  },
  {
   "cell_type": "code",
   "execution_count": 28,
   "metadata": {},
   "outputs": [
    {
     "output_type": "execute_result",
     "data": {
      "text/plain": "((140, 10), (59, 10), (140, 14), (59, 14))"
     },
     "metadata": {},
     "execution_count": 28
    }
   ],
   "source": [
    "# 1，分别将数据分为训练集和测试集,随机分配\n",
    "X2Y = np.insert(X2,0,Y,axis=1)\n",
    "X1Y= np.insert(X1,0,Y,axis=1)\n",
    "# 过滤后\n",
    "np.array(np.random.shuffle(X2Y))\n",
    "\n",
    "trp = X2Y[:140,:]\n",
    "tep =X2Y[140:,:]\n",
    "# 原始\n",
    "np.random.shuffle(X1Y)\n",
    "trraw= X1Y[:140,:]\n",
    "teraw= X1Y[140:,:]\n",
    "trp.shape,tep.shape,trraw.shape,teraw.shape"
   ]
  },
  {
   "cell_type": "markdown",
   "metadata": {},
   "source": [
    "### 分别使用svr训练模型"
   ]
  },
  {
   "cell_type": "code",
   "execution_count": 29,
   "metadata": {},
   "outputs": [
    {
     "output_type": "stream",
     "name": "stdout",
     "text": "0.8260793187195429\n0.7176690210157035\n"
    }
   ],
   "source": [
    "# 三种不同的实现方式： SVR，NuSVR和LinearSVR。LinearSVR 提供的实现速度比SVR线性内核快，但仅考虑线性内核，而NuSVR实现的方式与SVR和略有不同LinearSVR。\n",
    "from sklearn.svm import SVR\n",
    "from sklearn.pipeline import make_pipeline\n",
    "from sklearn.preprocessing import StandardScaler\n",
    "# C：一个浮点数，惩罚参数\n",
    "# loss：字符串。表示损失函数。可取值为\n",
    "# 'hinge'：合页损失函数；\n",
    "# 'squared_hinge'：合页损失函数的平方\n",
    "# max_iter:一个整数，指定最大的迭代次数\n",
    "# svc = svm.SVR(C=1, kernel='rbf')\n",
    "regr1 = make_pipeline(StandardScaler(), SVR(C=1.0, epsilon=0.1))\n",
    "regr1.fit(trp[:,1:], trp[:,0])\n",
    "print(regr1.score(tep[:,1:],tep[:,0]))# 预测准确度\n",
    "# \n",
    "regr2 = make_pipeline(StandardScaler(), SVR(C=1.0, epsilon=0.1))\n",
    "regr2.fit(trraw[:,1:], trraw[:,0])\n",
    "print(regr2.score(teraw[:,1:],teraw[:,0]))# 预测准确度"
   ]
  },
  {
   "cell_type": "code",
   "execution_count": 30,
   "metadata": {},
   "outputs": [
    {
     "output_type": "execute_result",
     "data": {
      "text/plain": "(array([0.05418867]), -0.131404085206265)"
     },
     "metadata": {},
     "execution_count": 30
    }
   ],
   "source": [
    "# 比较预测准确度可以看到\n",
    "# 去除权重较小特征值后，两者的准确度非常接近，证明效果不错\n",
    "# 随机挑选预测：Yba 和Y\n",
    "regr1.predict([X2[3,:]]),Y[3]"
   ]
  },
  {
   "cell_type": "code",
   "execution_count": 31,
   "metadata": {},
   "outputs": [],
   "source": [
    "# 引入pca压缩，再次压缩\n",
    "# PCA的算法相当简单。 在确保数据被归一化之后，输出仅仅是原始数据的协方差矩阵的奇异值分解\n",
    "def pca(X):\n",
    "    X = np.matrix(X)\n",
    "    cov = (X.T * X) / X.shape[0]\n",
    "    # perform SVD\n",
    "    U, S, V = np.linalg.svd(cov)\n",
    "    return U, S, V"
   ]
  },
  {
   "cell_type": "code",
   "execution_count": 32,
   "metadata": {},
   "outputs": [],
   "source": [
    "# 有效地减少了维数。\n",
    "def project_data(X, U, k):\n",
    "    U_reduced = U[:,:k]\n",
    "    return np.dot(X, U_reduced)"
   ]
  },
  {
   "cell_type": "code",
   "execution_count": 33,
   "metadata": {},
   "outputs": [],
   "source": [
    "# 划分k=4,训练集\n",
    "z=trp[:,1:]\n",
    "U, S, V = pca(z)\n",
    "Z = project_data(z, U, 4)\n",
    "yz=trp[:,0]\n",
    "# 测试集\n",
    "tz=tep[:,1:]\n",
    "U1, S1, V1 = pca(tz)\n",
    "tz = project_data(tz, U1, 4)\n",
    "tyz=tep[:,0]"
   ]
  },
  {
   "cell_type": "code",
   "execution_count": 34,
   "metadata": {},
   "outputs": [
    {
     "output_type": "stream",
     "name": "stdout",
     "text": "-0.003784079367260107\n"
    }
   ],
   "source": [
    "regr3 = make_pipeline(StandardScaler(), SVR(C=1.0, epsilon=0.1))\n",
    "regr3.fit(Z, yz)\n",
    "print(regr3.score(tz,tyz))# 预测准确度"
   ]
  },
  {
   "cell_type": "markdown",
   "metadata": {},
   "source": [
    "\n",
    "\n",
    "![](../img/zhuanli7.jpg)"
   ]
  },
  {
   "cell_type": "markdown",
   "metadata": {},
   "source": [
    "皮尔逊相关系数定义为两个变量之间的协方差和标准差的商：\n",
    "\n",
    "![](../img/zhuanli2.png)\n",
    "\n",
    "总体相关系数，常用希腊小写字母ρ\n",
    "作为代表符号。估算样本的协方差和标准差，可得到皮尔逊相关系数，常用英文小写字母 r\n",
    "\n",
    "![](../img/zhuanli3.png)\n",
    "\n",
    "皮尔逊相关系数有一个重要的数学特性是，因两个变量的位置和尺度的变化并不会引起该系数的改变，即它该变化的不变量(由符号确定)。\n",
    "\n",
    "\n",
    "svd\n",
    "![](../img/zhuanli5.jpg)\n"
   ]
  },
  {
   "cell_type": "code",
   "execution_count": 35,
   "metadata": {},
   "outputs": [
    {
     "output_type": "error",
     "ename": "SyntaxError",
     "evalue": "invalid syntax (<ipython-input-35-a1bd9b6c7617>, line 1)",
     "traceback": [
      "\u001b[1;36m  File \u001b[1;32m\"<ipython-input-35-a1bd9b6c7617>\"\u001b[1;36m, line \u001b[1;32m1\u001b[0m\n\u001b[1;33m    求相关系数矩阵 rij,当0<i,j<n 其中n为原数据集类别数量\u001b[0m\n\u001b[1;37m            ^\u001b[0m\n\u001b[1;31mSyntaxError\u001b[0m\u001b[1;31m:\u001b[0m invalid syntax\n"
     ]
    }
   ],
   "source": [
    "求相关系数矩阵 rij,当0<i,j<n 其中n为原数据集类别数量\n",
    "\n",
    "求得相关矩阵后分别计算每个特征值对整体影响带入函数计算整理权重值w\n",
    "\n",
    "得到相关权重W矩阵后，适当去除特征值相关权重较小的特征集合\n",
    "\n",
    "剩下的数据集分离要预测的结果集，将剩下特征集做PCA（主要成分分析），得到训练需要的维度K\n",
    "\n",
    "利用PCA降维后车辆数据后通过SVR回归训练\n",
    "\n",
    "训练后测试集验证是否满足"
   ]
  }
 ],
 "metadata": {
  "language_info": {
   "codemirror_mode": {
    "name": "ipython",
    "version": 3
   },
   "file_extension": ".py",
   "mimetype": "text/x-python",
   "name": "python",
   "nbconvert_exporter": "python",
   "pygments_lexer": "ipython3",
   "version": "3.8.2-final"
  },
  "orig_nbformat": 2,
  "kernelspec": {
   "name": "python38264bit6bea704b514f4e4e95f609b2ef7a3e8e",
   "display_name": "Python 3.8.2 64-bit"
  }
 },
 "nbformat": 4,
 "nbformat_minor": 2
}